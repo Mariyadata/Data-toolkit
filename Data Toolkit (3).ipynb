{
 "cells": [
  {
   "cell_type": "code",
   "execution_count": 1,
   "id": "4e65c7c8-8f69-4111-a47c-8cd485f643bf",
   "metadata": {},
   "outputs": [
    {
     "name": "stdout",
     "output_type": "stream",
     "text": [
      "[[ 1.          1.09090909  1.18181818  1.27272727  1.36363636  1.45454545\n",
      "   1.54545455  1.63636364  1.72727273  1.81818182]\n",
      " [ 1.90909091  2.          2.09090909  2.18181818  2.27272727  2.36363636\n",
      "   2.45454545  2.54545455  2.63636364  2.72727273]\n",
      " [ 2.81818182  2.90909091  3.          3.09090909  3.18181818  3.27272727\n",
      "   3.36363636  3.45454545  3.54545455  3.63636364]\n",
      " [ 3.72727273  3.81818182  3.90909091  4.          4.09090909  4.18181818\n",
      "   4.27272727  4.36363636  4.45454545  4.54545455]\n",
      " [ 4.63636364  4.72727273  4.81818182  4.90909091  5.          5.09090909\n",
      "   5.18181818  5.27272727  5.36363636  5.45454545]\n",
      " [ 5.54545455  5.63636364  5.72727273  5.81818182  5.90909091  6.\n",
      "   6.09090909  6.18181818  6.27272727  6.36363636]\n",
      " [ 6.45454545  6.54545455  6.63636364  6.72727273  6.81818182  6.90909091\n",
      "   7.          7.09090909  7.18181818  7.27272727]\n",
      " [ 7.36363636  7.45454545  7.54545455  7.63636364  7.72727273  7.81818182\n",
      "   7.90909091  8.          8.09090909  8.18181818]\n",
      " [ 8.27272727  8.36363636  8.45454545  8.54545455  8.63636364  8.72727273\n",
      "   8.81818182  8.90909091  9.          9.09090909]\n",
      " [ 9.18181818  9.27272727  9.36363636  9.45454545  9.54545455  9.63636364\n",
      "   9.72727273  9.81818182  9.90909091 10.        ]]\n"
     ]
    }
   ],
   "source": [
    "import numpy as np\n",
    "\n",
    "\n",
    "array_1d = np.linspace(1, 10, 100)\n",
    "\n",
    "\n",
    "array_2d = array_1d.reshape((10, 10))\n",
    "\n",
    "print(array_2d)\n"
   ]
  },
  {
   "cell_type": "code",
   "execution_count": 1,
   "id": "744faebe-d90f-4beb-b45f-d8edabd441ad",
   "metadata": {},
   "outputs": [],
   "source": [
    "import numpy as np\n",
    "data = [1, 2, 3]\n",
    "array = np.array(data)  \n",
    "\n",
    "data = [1, 2, 3]\n",
    "array = np.asarray(data) \n",
    "\n",
    "data = np.matrix([1, 2, 3])\n",
    "array = np.asanyarray(data)  \n",
    "\n",
    "\n"
   ]
  },
  {
   "cell_type": "code",
   "execution_count": null,
   "id": "ec471d82-1525-4adf-b7ba-bb17b472beba",
   "metadata": {},
   "outputs": [],
   "source": [
    "import numpy as np\n",
    "original = np.array([1, 2, 3])\n",
    "shallow_copy = original.view()  \n",
    "shallow_copy[0] = 10\n",
    "print(original) \n",
    "\n",
    "\n",
    "import numpy as np\n",
    "original = np.array([1, 2, 3])\n",
    "deep_copy = original.copy()  \n",
    "deep_copy[0] = 10\n",
    "print(original) \n"
   ]
  },
  {
   "cell_type": "code",
   "execution_count": null,
   "id": "71485df2-e5ba-4694-9a55-33cf7bfae022",
   "metadata": {},
   "outputs": [],
   "source": [
    "import numpy as np\n",
    "\n",
    "random_array = np.random.uniform(5, 20, (3, 3))\n",
    "\n",
    "\n",
    "rounded_array = np.round(random_array, 2)\n",
    "\n",
    "print(rounded_array)\n"
   ]
  },
  {
   "cell_type": "code",
   "execution_count": null,
   "id": "006c6e0e-674d-4be4-ba5c-0ac49c676e3f",
   "metadata": {},
   "outputs": [],
   "source": [
    "import numpy as np\n",
    "\n",
    "\n",
    "random_array = np.random.randint(1, 11, size=(5, 6))\n",
    "\n",
    "print(\"Original array:\")\n",
    "print(random_array)\n",
    "\n",
    "\n",
    "even_integers = random_array[random_array % 2 == 0]\n",
    "\n",
    "\n",
    "odd_integers = random_array[random_array % 2 != 0]\n",
    "\n",
    "print(\"\\nEven integers:\")\n",
    "print(even_integers)\n",
    "\n",
    "print(\"\\nOdd integers:\")\n",
    "print(odd_integers)\n"
   ]
  },
  {
   "cell_type": "code",
   "execution_count": null,
   "id": "306d3ead-8e81-41b8-9b5e-215cc72ce4b6",
   "metadata": {},
   "outputs": [],
   "source": [
    "import numpy as np\n",
    "\n",
    "\n",
    "array_3d = np.random.randint(1, 11, size=(3, 3, 3))\n",
    "\n",
    "print(\"Original 3D array:\")\n",
    "print(array_3d)\n",
    "\n",
    "\n",
    "max_indices = np.argmax(array_3d, axis=2)\n",
    "\n",
    "print(\"\\nIndices of maximum values along each depth level:\")\n",
    "print(max_indices)\n",
    "\n",
    "\n",
    "element_wise_multiplication = array_3d * array_3d\n",
    "\n",
    "print(\"\\nElement-wise multiplication of the array with itself:\")\n",
    "print(element_wise_multiplication)\n"
   ]
  },
  {
   "cell_type": "code",
   "execution_count": null,
   "id": "74c027ab-e9cb-4171-a33d-d29884d980d3",
   "metadata": {},
   "outputs": [],
   "source": [
    "import numpy as np\n",
    "import plotly.graph_objs as go\n",
    "\n",
    "np.random.seed(42) \n",
    "categories = ['Category A', 'Category B', 'Category C', 'Category D', 'Category E']\n",
    "values = np.random.randint(1, 100, size=len(categories))\n",
    "\n",
    "# Create the pie chart\n",
    "fig = go.Figure(data=[go.Pie(labels=categories, values=values, hole=0.3, \n",
    "                             hoverinfo='label+percent', textinfo='label+percent', \n",
    "                             textposition='inside')])\n",
    "\n",
    "fig.update_layout(title_text='Interactive Pie Chart')\n",
    "\n",
    "fig.show()\n"
   ]
  },
  {
   "cell_type": "code",
   "execution_count": null,
   "id": "ce401c1f-af28-454b-9a19-314ee490b285",
   "metadata": {},
   "outputs": [],
   "source": [
    "import numpy as np\n",
    "import plotly.graph_objs as go\n",
    "import plotly.express as px\n",
    "\n",
    "\n",
    "np.random.seed(42)  \n",
    "x = np.arange(0, 10, 1)  \n",
    "y = np.random.rand(10)  \n",
    "\n",
    "\n",
    "fig = go.Figure()\n",
    "\n",
    "\n",
    "fig.add_trace(go.Scatter(x=x, y=y, mode='lines', name='Random Data'))\n",
    "\n",
    "\n",
    "fig.update_layout(\n",
    "    title='Simple Line Plot',\n",
    "    xaxis_title='X Axis',\n",
    "    yaxis_title='Y Axis'\n",
    ")\n",
    "\n",
    "\n",
    "fig.show()\n"
   ]
  },
  {
   "cell_type": "code",
   "execution_count": null,
   "id": "a2e71ba6-c70c-45f3-824a-35f30d6d3af5",
   "metadata": {},
   "outputs": [],
   "source": [
    "import pandas as pd\n",
    "import re\n",
    "\n",
    "data = {\n",
    "    'Name': ['Alice', 'Bob', 'Charlie'],\n",
    "    'Phone': ['123-456-7890', '(123) 456-7890', '123 456 7890'],\n",
    "    'Email': ['alice@example.com', 'bob@example.com', 'charlie@example.com']\n",
    "}\n",
    "\n",
    "df = pd.DataFrame(data)\n",
    "\n",
    "df['Phone'] = df['Phone'].apply(lambda x: re.sub(r'\\D', '', x))\n",
    "\n",
    "\n",
    "df['Phone'] = pd.to_numeric(df['Phone'])\n",
    "\n",
    "\n",
    "print(\"Cleaned DataFrame:\")\n",
    "print(df)\n",
    "\n",
    "\n",
    "print(\"\\nData types of each column:\")\n",
    "print(df.dtypes)\n"
   ]
  }
 ],
 "metadata": {
  "kernelspec": {
   "display_name": "Python 3 (ipykernel)",
   "language": "python",
   "name": "python3"
  },
  "language_info": {
   "codemirror_mode": {
    "name": "ipython",
    "version": 3
   },
   "file_extension": ".py",
   "mimetype": "text/x-python",
   "name": "python",
   "nbconvert_exporter": "python",
   "pygments_lexer": "ipython3",
   "version": "3.10.8"
  }
 },
 "nbformat": 4,
 "nbformat_minor": 5
}
